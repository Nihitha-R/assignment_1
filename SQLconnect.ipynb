{
 "cells": [
  {
   "cell_type": "code",
   "execution_count": 20,
   "id": "4f522c38-3528-4d91-ac71-535d75804b4f",
   "metadata": {},
   "outputs": [
    {
     "name": "stdout",
     "output_type": "stream",
     "text": [
      "MySQL Connector is installed and imported successfully.\n"
     ]
    }
   ],
   "source": [
    "import mysql.connector\n",
    "print(\"MySQL Connector is installed and imported successfully.\")"
   ]
  },
  {
   "cell_type": "code",
   "execution_count": 21,
   "id": "cfcfc0a0-fb87-478f-b258-712ad009e882",
   "metadata": {},
   "outputs": [],
   "source": [
    "#importing libraries\n",
    "import pandas as pd\n",
    "import mysql.connector\n",
    "import numpy as np"
   ]
  },
  {
   "cell_type": "code",
   "execution_count": 25,
   "id": "fb649d90-31d1-4459-8fb5-8a2b5bea1d07",
   "metadata": {},
   "outputs": [
    {
     "data": {
      "text/html": [
       "<div>\n",
       "<style scoped>\n",
       "    .dataframe tbody tr th:only-of-type {\n",
       "        vertical-align: middle;\n",
       "    }\n",
       "\n",
       "    .dataframe tbody tr th {\n",
       "        vertical-align: top;\n",
       "    }\n",
       "\n",
       "    .dataframe thead th {\n",
       "        text-align: right;\n",
       "    }\n",
       "</style>\n",
       "<table border=\"1\" class=\"dataframe\">\n",
       "  <thead>\n",
       "    <tr style=\"text-align: right;\">\n",
       "      <th></th>\n",
       "      <th>Bus_name</th>\n",
       "      <th>Bus_type</th>\n",
       "      <th>Start_time</th>\n",
       "      <th>End_time</th>\n",
       "      <th>Total_duration</th>\n",
       "      <th>Price</th>\n",
       "      <th>Seats_Available</th>\n",
       "      <th>Ratings</th>\n",
       "      <th>Route_link</th>\n",
       "      <th>Route_name</th>\n",
       "    </tr>\n",
       "  </thead>\n",
       "  <tbody>\n",
       "    <tr>\n",
       "      <th>0</th>\n",
       "      <td>KSRTC (Kerala) - 1586</td>\n",
       "      <td>Super Express Non AC Seater Air Bus (2+2)</td>\n",
       "      <td>21:31</td>\n",
       "      <td>06:36</td>\n",
       "      <td>09h 05m</td>\n",
       "      <td>INR 640</td>\n",
       "      <td>27 Seats available</td>\n",
       "      <td>3.6\\n33</td>\n",
       "      <td>https://www.redbus.in/bus-tickets/bangalore-to...</td>\n",
       "      <td>Bangalore to Kozhikode</td>\n",
       "    </tr>\n",
       "    <tr>\n",
       "      <th>1</th>\n",
       "      <td>KSRTC (Kerala) - 2133</td>\n",
       "      <td>Swift Deluxe Non AC Air Bus (2+2)</td>\n",
       "      <td>22:12</td>\n",
       "      <td>07:36</td>\n",
       "      <td>09h 24m</td>\n",
       "      <td>INR 640</td>\n",
       "      <td>36 Seats available</td>\n",
       "      <td>4.3\\n19</td>\n",
       "      <td>https://www.redbus.in/bus-tickets/bangalore-to...</td>\n",
       "      <td>Bangalore to Kozhikode</td>\n",
       "    </tr>\n",
       "    <tr>\n",
       "      <th>2</th>\n",
       "      <td>KSRTC (Kerala) - 2063</td>\n",
       "      <td>SWIFT-GARUDA A/C SEATER BUS</td>\n",
       "      <td>22:32</td>\n",
       "      <td>07:35</td>\n",
       "      <td>09h 03m</td>\n",
       "      <td>INR 627</td>\n",
       "      <td>5 Seats available</td>\n",
       "      <td>3.9\\n47</td>\n",
       "      <td>https://www.redbus.in/bus-tickets/bangalore-to...</td>\n",
       "      <td>Bangalore to Kozhikode</td>\n",
       "    </tr>\n",
       "    <tr>\n",
       "      <th>3</th>\n",
       "      <td>KSRTC (Kerala) - 574</td>\n",
       "      <td>Super Express Non AC Seater Air Bus (2+2)</td>\n",
       "      <td>23:00</td>\n",
       "      <td>09:30</td>\n",
       "      <td>10h 30m</td>\n",
       "      <td>INR 469</td>\n",
       "      <td>23 Seats available</td>\n",
       "      <td>3.2\\n35</td>\n",
       "      <td>https://www.redbus.in/bus-tickets/bangalore-to...</td>\n",
       "      <td>Bangalore to Kozhikode</td>\n",
       "    </tr>\n",
       "    <tr>\n",
       "      <th>4</th>\n",
       "      <td>KSRTC (Kerala) - 583</td>\n",
       "      <td>Super Express Non AC Seater Air Bus (2+2)</td>\n",
       "      <td>23:30</td>\n",
       "      <td>09:35</td>\n",
       "      <td>10h 05m</td>\n",
       "      <td>INR 469</td>\n",
       "      <td>21 Seats available</td>\n",
       "      <td>3.5\\n65</td>\n",
       "      <td>https://www.redbus.in/bus-tickets/bangalore-to...</td>\n",
       "      <td>Bangalore to Kozhikode</td>\n",
       "    </tr>\n",
       "    <tr>\n",
       "      <th>...</th>\n",
       "      <td>...</td>\n",
       "      <td>...</td>\n",
       "      <td>...</td>\n",
       "      <td>...</td>\n",
       "      <td>...</td>\n",
       "      <td>...</td>\n",
       "      <td>...</td>\n",
       "      <td>...</td>\n",
       "      <td>...</td>\n",
       "      <td>...</td>\n",
       "    </tr>\n",
       "    <tr>\n",
       "      <th>626</th>\n",
       "      <td>Snemita Parisheba</td>\n",
       "      <td>AC Seater (2+3)</td>\n",
       "      <td>05:50</td>\n",
       "      <td>09:30</td>\n",
       "      <td>03h 40m</td>\n",
       "      <td>304</td>\n",
       "      <td>21 Seats available</td>\n",
       "      <td>2.9</td>\n",
       "      <td>https://www.redbus.in/bus-tickets/barasat-west...</td>\n",
       "      <td>Barasat (West Bengal) to Contai (Kanthi)</td>\n",
       "    </tr>\n",
       "    <tr>\n",
       "      <th>627</th>\n",
       "      <td>SANTOSH BUS SERVICE</td>\n",
       "      <td>A/C Seater (2+3)</td>\n",
       "      <td>05:55</td>\n",
       "      <td>09:30</td>\n",
       "      <td>03h 35m</td>\n",
       "      <td>INR 320</td>\n",
       "      <td>40 Seats available</td>\n",
       "      <td>New</td>\n",
       "      <td>https://www.redbus.in/bus-tickets/barasat-west...</td>\n",
       "      <td>Barasat (West Bengal) to Contai (Kanthi)</td>\n",
       "    </tr>\n",
       "    <tr>\n",
       "      <th>628</th>\n",
       "      <td>Aradhana Bus Service</td>\n",
       "      <td>A/C Seater / Sleeper (2+2)</td>\n",
       "      <td>02:00</td>\n",
       "      <td>06:00</td>\n",
       "      <td>04h 00m</td>\n",
       "      <td>INR 580</td>\n",
       "      <td>61 Seats available</td>\n",
       "      <td>2.4</td>\n",
       "      <td>https://www.redbus.in/bus-tickets/barasat-west...</td>\n",
       "      <td>Barasat (West Bengal) to Contai (Kanthi)</td>\n",
       "    </tr>\n",
       "    <tr>\n",
       "      <th>629</th>\n",
       "      <td>Aradhana Bus Service</td>\n",
       "      <td>A/C Seater / Sleeper (2+2)</td>\n",
       "      <td>02:30</td>\n",
       "      <td>06:00</td>\n",
       "      <td>03h 30m</td>\n",
       "      <td>INR 500</td>\n",
       "      <td>37 Seats available</td>\n",
       "      <td>2.4</td>\n",
       "      <td>https://www.redbus.in/bus-tickets/barasat-west...</td>\n",
       "      <td>Barasat (West Bengal) to Contai (Kanthi)</td>\n",
       "    </tr>\n",
       "    <tr>\n",
       "      <th>630</th>\n",
       "      <td>Aradhana Bus Service</td>\n",
       "      <td>Non AC Seater (2+3)</td>\n",
       "      <td>00:40</td>\n",
       "      <td>05:00</td>\n",
       "      <td>04h 20m</td>\n",
       "      <td>INR 350</td>\n",
       "      <td>54 Seats available</td>\n",
       "      <td>2.4</td>\n",
       "      <td>https://www.redbus.in/bus-tickets/barasat-west...</td>\n",
       "      <td>Barasat (West Bengal) to Contai (Kanthi)</td>\n",
       "    </tr>\n",
       "  </tbody>\n",
       "</table>\n",
       "<p>631 rows × 10 columns</p>\n",
       "</div>"
      ],
      "text/plain": [
       "                  Bus_name                                   Bus_type  \\\n",
       "0    KSRTC (Kerala) - 1586  Super Express Non AC Seater Air Bus (2+2)   \n",
       "1    KSRTC (Kerala) - 2133          Swift Deluxe Non AC Air Bus (2+2)   \n",
       "2    KSRTC (Kerala) - 2063                SWIFT-GARUDA A/C SEATER BUS   \n",
       "3     KSRTC (Kerala) - 574  Super Express Non AC Seater Air Bus (2+2)   \n",
       "4     KSRTC (Kerala) - 583  Super Express Non AC Seater Air Bus (2+2)   \n",
       "..                     ...                                        ...   \n",
       "626      Snemita Parisheba                            AC Seater (2+3)   \n",
       "627    SANTOSH BUS SERVICE                           A/C Seater (2+3)   \n",
       "628   Aradhana Bus Service                 A/C Seater / Sleeper (2+2)   \n",
       "629   Aradhana Bus Service                 A/C Seater / Sleeper (2+2)   \n",
       "630   Aradhana Bus Service                        Non AC Seater (2+3)   \n",
       "\n",
       "    Start_time End_time Total_duration    Price     Seats_Available  Ratings  \\\n",
       "0        21:31    06:36        09h 05m  INR 640  27 Seats available  3.6\\n33   \n",
       "1        22:12    07:36        09h 24m  INR 640  36 Seats available  4.3\\n19   \n",
       "2        22:32    07:35        09h 03m  INR 627   5 Seats available  3.9\\n47   \n",
       "3        23:00    09:30        10h 30m  INR 469  23 Seats available  3.2\\n35   \n",
       "4        23:30    09:35        10h 05m  INR 469  21 Seats available  3.5\\n65   \n",
       "..         ...      ...            ...      ...                 ...      ...   \n",
       "626      05:50    09:30        03h 40m      304  21 Seats available      2.9   \n",
       "627      05:55    09:30        03h 35m  INR 320  40 Seats available      New   \n",
       "628      02:00    06:00        04h 00m  INR 580  61 Seats available      2.4   \n",
       "629      02:30    06:00        03h 30m  INR 500  37 Seats available      2.4   \n",
       "630      00:40    05:00        04h 20m  INR 350  54 Seats available      2.4   \n",
       "\n",
       "                                            Route_link  \\\n",
       "0    https://www.redbus.in/bus-tickets/bangalore-to...   \n",
       "1    https://www.redbus.in/bus-tickets/bangalore-to...   \n",
       "2    https://www.redbus.in/bus-tickets/bangalore-to...   \n",
       "3    https://www.redbus.in/bus-tickets/bangalore-to...   \n",
       "4    https://www.redbus.in/bus-tickets/bangalore-to...   \n",
       "..                                                 ...   \n",
       "626  https://www.redbus.in/bus-tickets/barasat-west...   \n",
       "627  https://www.redbus.in/bus-tickets/barasat-west...   \n",
       "628  https://www.redbus.in/bus-tickets/barasat-west...   \n",
       "629  https://www.redbus.in/bus-tickets/barasat-west...   \n",
       "630  https://www.redbus.in/bus-tickets/barasat-west...   \n",
       "\n",
       "                                   Route_name  \n",
       "0                      Bangalore to Kozhikode  \n",
       "1                      Bangalore to Kozhikode  \n",
       "2                      Bangalore to Kozhikode  \n",
       "3                      Bangalore to Kozhikode  \n",
       "4                      Bangalore to Kozhikode  \n",
       "..                                        ...  \n",
       "626  Barasat (West Bengal) to Contai (Kanthi)  \n",
       "627  Barasat (West Bengal) to Contai (Kanthi)  \n",
       "628  Barasat (West Bengal) to Contai (Kanthi)  \n",
       "629  Barasat (West Bengal) to Contai (Kanthi)  \n",
       "630  Barasat (West Bengal) to Contai (Kanthi)  \n",
       "\n",
       "[631 rows x 10 columns]"
      ]
     },
     "execution_count": 25,
     "metadata": {},
     "output_type": "execute_result"
    }
   ],
   "source": [
    "# csv to dataframe\n",
    "df_buses_1=pd.read_csv(r\"C:\\Users\\ELCOT\\Downloads\\PROJECT.1.Red Bus\\busdata\\df_buses_1.csv\")\n",
    "df_buses_2=pd.read_csv(r\"C:\\Users\\ELCOT\\Downloads\\PROJECT.1.Red Bus\\busdata\\df_buses_2.csv\")\n",
    "df_buses_3=pd.read_csv(r\"C:\\Users\\ELCOT\\Downloads\\PROJECT.1.Red Bus\\busdata\\df_buses_3.csv\")\n",
    "df_buses_4=pd.read_csv(r\"C:\\Users\\ELCOT\\Downloads\\PROJECT.1.Red Bus\\busdata\\df_buses_4.csv\")\n",
    "df_buses_5=pd.read_csv(r\"C:\\Users\\ELCOT\\Downloads\\PROJECT.1.Red Bus\\busdata\\df_buses_5.csv\")\n",
    "df_buses_6=pd.read_csv(r\"C:\\Users\\ELCOT\\Downloads\\PROJECT.1.Red Bus\\busdata\\df_buses_6.csv\")\n",
    "df_buses_7=pd.read_csv(r\"C:\\Users\\ELCOT\\Downloads\\PROJECT.1.Red Bus\\busdata\\df_buses_7.csv\")\n",
    "df_buses_8=pd.read_csv(r\"C:\\Users\\ELCOT\\Downloads\\PROJECT.1.Red Bus\\busdata\\df_buses_8.csv\")\n",
    "df_buses_9=pd.read_csv(r\"C:\\Users\\ELCOT\\Downloads\\PROJECT.1.Red Bus\\busdata\\df_buses_9.csv\")\n",
    "df_buses_10=pd.read_csv(r\"C:\\Users\\ELCOT\\Downloads\\PROJECT.1.Red Bus\\busdata\\df_buses_10.csv\")\n",
    "Final_df=pd.concat([df_buses_1,df_buses_2,df_buses_3,df_buses_4,df_buses_5,df_buses_6,\n",
    "                    df_buses_7,df_buses_8,df_buses_9,df_buses_10],ignore_index=True)\n",
    "Final_df"
   ]
  },
  {
   "cell_type": "code",
   "execution_count": 26,
   "id": "0cfbfcf0-0bd5-4b88-81a5-bc1a525dbba9",
   "metadata": {},
   "outputs": [
    {
     "name": "stdout",
     "output_type": "stream",
     "text": [
      "<class 'pandas.core.frame.DataFrame'>\n",
      "RangeIndex: 631 entries, 0 to 630\n",
      "Data columns (total 10 columns):\n",
      " #   Column           Non-Null Count  Dtype \n",
      "---  ------           --------------  ----- \n",
      " 0   Bus_name         615 non-null    object\n",
      " 1   Bus_type         615 non-null    object\n",
      " 2   Start_time       615 non-null    object\n",
      " 3   End_time         615 non-null    object\n",
      " 4   Total_duration   615 non-null    object\n",
      " 5   Price            615 non-null    object\n",
      " 6   Seats_Available  615 non-null    object\n",
      " 7   Ratings          615 non-null    object\n",
      " 8   Route_link       631 non-null    object\n",
      " 9   Route_name       631 non-null    object\n",
      "dtypes: object(10)\n",
      "memory usage: 49.4+ KB\n"
     ]
    }
   ],
   "source": [
    "Final_df.info()"
   ]
  },
  {
   "cell_type": "code",
   "execution_count": 27,
   "id": "690245e7-62cb-41b0-9ee8-e264f8f8fe85",
   "metadata": {},
   "outputs": [
    {
     "data": {
      "text/plain": [
       "0      640.0\n",
       "1      640.0\n",
       "2      627.0\n",
       "3      469.0\n",
       "4      469.0\n",
       "       ...  \n",
       "626    304.0\n",
       "627    320.0\n",
       "628    580.0\n",
       "629    500.0\n",
       "630    350.0\n",
       "Name: Price, Length: 631, dtype: float64"
      ]
     },
     "execution_count": 27,
     "metadata": {},
     "output_type": "execute_result"
    }
   ],
   "source": [
    "#convert prices to numeric\n",
    "Final_df[\"Price\"]=Final_df[\"Price\"].str.replace(\"INR\",\"\")\n",
    "Final_df[\"Price\"]=Final_df[\"Price\"].astype(float)\n",
    "Final_df[\"Price\"].fillna(0)"
   ]
  },
  {
   "cell_type": "code",
   "execution_count": 30,
   "id": "12f03344-aa22-44f7-8cc5-eadf8773ae1a",
   "metadata": {},
   "outputs": [],
   "source": [
    "# Convert the entire 'Ratings' column to string type first\n",
    "Final_df[\"Ratings\"] = Final_df[\"Ratings\"].astype(str)\n",
    "\n",
    "# Remove 'New' from Ratings and handle other string operations\n",
    "Final_df[\"Ratings\"] = Final_df[\"Ratings\"].str.replace(\"New\", \"\", regex=False)\n",
    "Final_df[\"Ratings\"] = Final_df[\"Ratings\"].str.strip()\n",
    "Final_df[\"Ratings\"] = Final_df[\"Ratings\"].str.split().str[0]\n",
    "\n",
    "# Convert the cleaned Ratings to numeric, coercing errors to NaN\n",
    "Final_df[\"Ratings\"] = pd.to_numeric(Final_df[\"Ratings\"], errors='coerce')\n",
    "\n",
    "# Fill NaN values with 0 (if needed)\n",
    "Final_df[\"Ratings\"] = Final_df[\"Ratings\"].fillna(0)"
   ]
  },
  {
   "cell_type": "code",
   "execution_count": 31,
   "id": "767fd0cc-94b3-4969-aac0-5519c8563e68",
   "metadata": {},
   "outputs": [
    {
     "name": "stdout",
     "output_type": "stream",
     "text": [
      "<class 'pandas.core.frame.DataFrame'>\n",
      "RangeIndex: 631 entries, 0 to 630\n",
      "Data columns (total 10 columns):\n",
      " #   Column           Non-Null Count  Dtype  \n",
      "---  ------           --------------  -----  \n",
      " 0   Bus_name         615 non-null    object \n",
      " 1   Bus_type         615 non-null    object \n",
      " 2   Start_time       615 non-null    object \n",
      " 3   End_time         615 non-null    object \n",
      " 4   Total_duration   615 non-null    object \n",
      " 5   Price            615 non-null    float64\n",
      " 6   Seats_Available  615 non-null    object \n",
      " 7   Ratings          631 non-null    float64\n",
      " 8   Route_link       631 non-null    object \n",
      " 9   Route_name       631 non-null    object \n",
      "dtypes: float64(2), object(8)\n",
      "memory usage: 49.4+ KB\n"
     ]
    }
   ],
   "source": [
    "# info after the data type change\n",
    "Final_df.info()"
   ]
  },
  {
   "cell_type": "code",
   "execution_count": 32,
   "id": "7142d673-64ae-4364-838b-ee340cebf01c",
   "metadata": {},
   "outputs": [],
   "source": [
    "Final_df = Final_df[Final_df[\"Price\"] <= 7000]"
   ]
  },
  {
   "cell_type": "code",
   "execution_count": 33,
   "id": "49f79ad7-f633-4145-a96e-e7425529ca88",
   "metadata": {},
   "outputs": [],
   "source": [
    "Final_df = Final_df.replace({np.nan: None})"
   ]
  },
  {
   "cell_type": "code",
   "execution_count": 34,
   "id": "ea54d0e5-87f3-4f8a-b812-dab7a8d33aeb",
   "metadata": {},
   "outputs": [],
   "source": [
    "# change dataframe to csv\n",
    "path=r\"C:\\Users\\ELCOT\\Downloads\\PROJECT.1.Red Bus\\FinalBusData\\Final_bus_data.csv\"\n",
    "Final_df.to_csv(path,index=False)"
   ]
  },
  {
   "cell_type": "markdown",
   "id": "afeb1bb8-5167-4b61-ba36-c18c961dd3b8",
   "metadata": {},
   "source": [
    "#Create a mysql database"
   ]
  },
  {
   "cell_type": "code",
   "execution_count": 36,
   "id": "031f0163-1ba6-43e2-839b-81c6c0a6f800",
   "metadata": {},
   "outputs": [
    {
     "name": "stdout",
     "output_type": "stream",
     "text": [
      "Database 'RED_BUS_DETAILS' created or already exists.\n"
     ]
    }
   ],
   "source": [
    "#sql connection\n",
    "import mysql.connector\n",
    "\n",
    "conn = mysql.connector.connect(\n",
    "    host=\"localhost\",\n",
    "    user=\"root\",\n",
    "    password=\"Nihitha@2595\"\n",
    ")\n",
    "my_cursor = conn.cursor()\n",
    "\n",
    "#Create the database if it doesn't exist\n",
    "my_cursor.execute(\"CREATE DATABASE IF NOT EXISTS RED_BUS_DETAILS\")\n",
    "print(\"Database 'RED_BUS_DETAILS' created or already exists.\")"
   ]
  },
  {
   "cell_type": "code",
   "execution_count": 38,
   "id": "76458da7-acf7-427e-ac8a-f2660dc8610d",
   "metadata": {},
   "outputs": [
    {
     "name": "stdout",
     "output_type": "stream",
     "text": [
      "Table Created successfully\n"
     ]
    }
   ],
   "source": [
    "# Step 1: Connect to MySQL\n",
    "conn = mysql.connector.connect(\n",
    "    host=\"localhost\",\n",
    "    user=\"root\",\n",
    "    password=\"Nihitha@2595\",\n",
    "    database=\"RED_BUS_DETAILS\"  # Specify the database here\n",
    ")\n",
    "\n",
    "# Step 2: Create a cursor object\n",
    "my_cursor = conn.cursor()\n",
    "\n",
    "# Step 3: Create the table if it doesn't exist\n",
    "my_cursor.execute('''\n",
    "    CREATE TABLE IF NOT EXISTS bus_details(\n",
    "        ID INT AUTO_INCREMENT PRIMARY KEY,\n",
    "        Bus_name VARCHAR(255) NOT NULL,\n",
    "        Bus_type VARCHAR(255) NOT NULL,\n",
    "        Start_time VARCHAR(255) NOT NULL,\n",
    "        End_time VARCHAR(255) NOT NULL,\n",
    "        Total_duration VARCHAR(255) NOT NULL,\n",
    "        Price FLOAT NULL,\n",
    "        Seats_Available VARCHAR(255) NOT NULL,\n",
    "        Ratings FLOAT NULL,\n",
    "        Route_link VARCHAR(255) NULL,\n",
    "        Route_name VARCHAR(255) NULL\n",
    "    )\n",
    "''')\n",
    "\n",
    "print(\"Table Created successfully\")\n"
   ]
  },
  {
   "cell_type": "code",
   "execution_count": 39,
   "id": "b03135e7-0fd7-4cfd-ad1b-050cd32b26e3",
   "metadata": {},
   "outputs": [
    {
     "name": "stdout",
     "output_type": "stream",
     "text": [
      "Values inserted successfully\n"
     ]
    }
   ],
   "source": [
    "# SQL query to insert data into bus_details table\n",
    "insert_query = '''INSERT INTO bus_details(\n",
    "                    Bus_name,\n",
    "                    Bus_type,\n",
    "                    Start_time,\n",
    "                    End_time,\n",
    "                    Total_duration,\n",
    "                    Price,\n",
    "                    Seats_Available,\n",
    "                    Ratings,\n",
    "                    Route_link,\n",
    "                    Route_name)\n",
    "                  VALUES(%s, %s, %s, %s, %s, %s, %s, %s, %s, %s)'''\n",
    "data = Final_df.values.tolist()\n",
    "\n",
    "my_cursor.executemany(insert_query, data)\n",
    "\n",
    "conn.commit()\n",
    "\n",
    "print(\"Values inserted successfully\")"
   ]
  },
  {
   "cell_type": "code",
   "execution_count": null,
   "id": "d18bea92-6fd9-4bc4-be7f-48cb8b0322ae",
   "metadata": {},
   "outputs": [],
   "source": []
  }
 ],
 "metadata": {
  "kernelspec": {
   "display_name": "Python 3 (ipykernel)",
   "language": "python",
   "name": "python3"
  },
  "language_info": {
   "codemirror_mode": {
    "name": "ipython",
    "version": 3
   },
   "file_extension": ".py",
   "mimetype": "text/x-python",
   "name": "python",
   "nbconvert_exporter": "python",
   "pygments_lexer": "ipython3",
   "version": "3.12.1"
  }
 },
 "nbformat": 4,
 "nbformat_minor": 5
}
